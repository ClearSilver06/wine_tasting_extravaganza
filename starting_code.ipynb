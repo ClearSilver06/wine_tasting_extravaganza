{
 "cells": [
  {
   "cell_type": "code",
   "execution_count": 1,
   "metadata": {},
   "outputs": [],
   "source": [
    "# Import Modules\n",
    "from pathlib import Path\n",
    "from sqlalchemy import create_engine, text\n",
    "from warnings import simplefilter\n",
    "import pandas as pd\n",
    "from sklearn.ensemble import RandomForestRegressor\n",
    "from sklearn.model_selection import train_test_split\n",
    "from sklearn.preprocessing import StandardScaler, OneHotEncoder\n",
    "from sklearn.metrics import accuracy_score, r2_score, mean_squared_error"
   ]
  },
  {
   "cell_type": "markdown",
   "metadata": {},
   "source": [
    "### Read CSV file into Pandas DataFrames"
   ]
  },
  {
   "cell_type": "code",
   "execution_count": 2,
   "metadata": {},
   "outputs": [
    {
     "data": {
      "text/html": [
       "<div>\n",
       "<style scoped>\n",
       "    .dataframe tbody tr th:only-of-type {\n",
       "        vertical-align: middle;\n",
       "    }\n",
       "\n",
       "    .dataframe tbody tr th {\n",
       "        vertical-align: top;\n",
       "    }\n",
       "\n",
       "    .dataframe thead th {\n",
       "        text-align: right;\n",
       "    }\n",
       "</style>\n",
       "<table border=\"1\" class=\"dataframe\">\n",
       "  <thead>\n",
       "    <tr style=\"text-align: right;\">\n",
       "      <th></th>\n",
       "      <th>country</th>\n",
       "      <th>points</th>\n",
       "      <th>price</th>\n",
       "      <th>province</th>\n",
       "      <th>region_1</th>\n",
       "      <th>taster_name</th>\n",
       "      <th>title</th>\n",
       "      <th>variety</th>\n",
       "      <th>winery</th>\n",
       "      <th>vintage_year</th>\n",
       "      <th>style</th>\n",
       "      <th>rating_category</th>\n",
       "    </tr>\n",
       "  </thead>\n",
       "  <tbody>\n",
       "    <tr>\n",
       "      <th>0</th>\n",
       "      <td>Portugal</td>\n",
       "      <td>87</td>\n",
       "      <td>15.0</td>\n",
       "      <td>Douro</td>\n",
       "      <td>Douro</td>\n",
       "      <td>Roger Voss</td>\n",
       "      <td>Quinta dos Avidagos 2011 Avidagos Red (Douro)</td>\n",
       "      <td>Portuguese Red</td>\n",
       "      <td>Quinta dos Avidagos</td>\n",
       "      <td>2011</td>\n",
       "      <td>red</td>\n",
       "      <td>good</td>\n",
       "    </tr>\n",
       "    <tr>\n",
       "      <th>1</th>\n",
       "      <td>US</td>\n",
       "      <td>87</td>\n",
       "      <td>14.0</td>\n",
       "      <td>Oregon</td>\n",
       "      <td>Willamette Valley</td>\n",
       "      <td>Paul Gregutt</td>\n",
       "      <td>Rainstorm 2013 Pinot Gris (Willamette Valley)</td>\n",
       "      <td>Pinot Gris</td>\n",
       "      <td>Rainstorm</td>\n",
       "      <td>2013</td>\n",
       "      <td>unknown</td>\n",
       "      <td>good</td>\n",
       "    </tr>\n",
       "    <tr>\n",
       "      <th>2</th>\n",
       "      <td>US</td>\n",
       "      <td>87</td>\n",
       "      <td>13.0</td>\n",
       "      <td>Michigan</td>\n",
       "      <td>Lake Michigan Shore</td>\n",
       "      <td>Alexander Peartree</td>\n",
       "      <td>St. Julian 2013 Reserve Late Harvest Riesling ...</td>\n",
       "      <td>Riesling</td>\n",
       "      <td>St. Julian</td>\n",
       "      <td>2013</td>\n",
       "      <td>white</td>\n",
       "      <td>good</td>\n",
       "    </tr>\n",
       "    <tr>\n",
       "      <th>3</th>\n",
       "      <td>US</td>\n",
       "      <td>87</td>\n",
       "      <td>65.0</td>\n",
       "      <td>Oregon</td>\n",
       "      <td>Willamette Valley</td>\n",
       "      <td>Paul Gregutt</td>\n",
       "      <td>Sweet Cheeks 2012 Vintner's Reserve Wild Child...</td>\n",
       "      <td>Pinot Noir</td>\n",
       "      <td>Sweet Cheeks</td>\n",
       "      <td>2012</td>\n",
       "      <td>red</td>\n",
       "      <td>good</td>\n",
       "    </tr>\n",
       "    <tr>\n",
       "      <th>4</th>\n",
       "      <td>Spain</td>\n",
       "      <td>87</td>\n",
       "      <td>15.0</td>\n",
       "      <td>Northern Spain</td>\n",
       "      <td>Navarra</td>\n",
       "      <td>Michael Schachner</td>\n",
       "      <td>Tandem 2011 Ars In Vitro Tempranillo-Merlot (N...</td>\n",
       "      <td>Tempranillo-Merlot</td>\n",
       "      <td>Tandem</td>\n",
       "      <td>2011</td>\n",
       "      <td>red</td>\n",
       "      <td>good</td>\n",
       "    </tr>\n",
       "  </tbody>\n",
       "</table>\n",
       "</div>"
      ],
      "text/plain": [
       "    country  points  price        province             region_1  \\\n",
       "0  Portugal      87   15.0           Douro                Douro   \n",
       "1        US      87   14.0          Oregon    Willamette Valley   \n",
       "2        US      87   13.0        Michigan  Lake Michigan Shore   \n",
       "3        US      87   65.0          Oregon    Willamette Valley   \n",
       "4     Spain      87   15.0  Northern Spain              Navarra   \n",
       "\n",
       "          taster_name                                              title  \\\n",
       "0          Roger Voss      Quinta dos Avidagos 2011 Avidagos Red (Douro)   \n",
       "1        Paul Gregutt      Rainstorm 2013 Pinot Gris (Willamette Valley)   \n",
       "2  Alexander Peartree  St. Julian 2013 Reserve Late Harvest Riesling ...   \n",
       "3        Paul Gregutt  Sweet Cheeks 2012 Vintner's Reserve Wild Child...   \n",
       "4   Michael Schachner  Tandem 2011 Ars In Vitro Tempranillo-Merlot (N...   \n",
       "\n",
       "              variety               winery  vintage_year    style  \\\n",
       "0      Portuguese Red  Quinta dos Avidagos          2011      red   \n",
       "1          Pinot Gris            Rainstorm          2013  unknown   \n",
       "2            Riesling           St. Julian          2013    white   \n",
       "3          Pinot Noir         Sweet Cheeks          2012      red   \n",
       "4  Tempranillo-Merlot               Tandem          2011      red   \n",
       "\n",
       "  rating_category  \n",
       "0            good  \n",
       "1            good  \n",
       "2            good  \n",
       "3            good  \n",
       "4            good  "
      ]
     },
     "execution_count": 2,
     "metadata": {},
     "output_type": "execute_result"
    }
   ],
   "source": [
    "# Load the CSV file into a DataFrame\n",
    "cleanwine_df = pd.read_csv('winemag-data-clean.csv')\n",
    "\n",
    "# Display the first few rows of the DataFrame\n",
    "cleanwine_df.head()"
   ]
  },
  {
   "cell_type": "code",
   "execution_count": 3,
   "metadata": {},
   "outputs": [
    {
     "name": "stdout",
     "output_type": "stream",
     "text": [
      "<class 'pandas.core.frame.DataFrame'>\n",
      "RangeIndex: 116765 entries, 0 to 116764\n",
      "Data columns (total 12 columns):\n",
      " #   Column           Non-Null Count   Dtype  \n",
      "---  ------           --------------   -----  \n",
      " 0   country          116765 non-null  object \n",
      " 1   points           116765 non-null  int64  \n",
      " 2   price            116765 non-null  float64\n",
      " 3   province         116765 non-null  object \n",
      " 4   region_1         116765 non-null  object \n",
      " 5   taster_name      116765 non-null  object \n",
      " 6   title            116765 non-null  object \n",
      " 7   variety          116765 non-null  object \n",
      " 8   winery           116765 non-null  object \n",
      " 9   vintage_year     116765 non-null  int64  \n",
      " 10  style            116765 non-null  object \n",
      " 11  rating_category  116765 non-null  object \n",
      "dtypes: float64(1), int64(2), object(9)\n",
      "memory usage: 10.7+ MB\n"
     ]
    }
   ],
   "source": [
    "## Count rows of dataframe\n",
    "cleanwine_df.info()"
   ]
  },
  {
   "cell_type": "code",
   "execution_count": 4,
   "metadata": {},
   "outputs": [
    {
     "name": "stdout",
     "output_type": "stream",
     "text": [
      "title\n",
      "Château Lestage Simon 2012  Haut-Médoc                                         4\n",
      "Vignerons des Pierres Dorées 2015 Salamandre d'Or  (Coteaux Bourguignons)      4\n",
      "Domaine Vacheron 2015  Sancerre                                                4\n",
      "Château de Rochemorin 2013  Pessac-Léognan                                     3\n",
      "Woodinville Wine Cellars 2012 Reserve Syrah (Columbia Valley (WA))             3\n",
      "                                                                              ..\n",
      "Fattoria di Casalbosco 2011  Chianti                                           1\n",
      "Erzetič 2013 Damski Rosé (Goriska Brda)                                        1\n",
      "Four Lanterns 2014 Sunset Rosé (Paso Robles)                                   1\n",
      "Foley 2013 Rancho Santa Rosa Pinot Noir (Sta. Rita Hills)                      1\n",
      "Domaine Schoffit 2012 Lieu-dit Harth Cuvée Caroline Gewurztraminer (Alsace)    1\n",
      "Name: count, Length: 107345, dtype: int64\n",
      "variety\n",
      "Pinot Noir                  12649\n",
      "Chardonnay                  10822\n",
      "Cabernet Sauvignon           9361\n",
      "Red Blend                    8247\n",
      "Bordeaux-style Red Blend     5326\n",
      "                            ...  \n",
      "Pinotage-Merlot                 1\n",
      "Maria Gomes-Bical               1\n",
      "Syrah-Grenache-Viognier         1\n",
      "Bombino Nero                    1\n",
      "Bobal-Cabernet Sauvignon        1\n",
      "Name: count, Length: 682, dtype: int64\n",
      "winery\n",
      "Testarossa                     217\n",
      "Williams Selyem                211\n",
      "DFJ Vinhos                     209\n",
      "Wines & Winemakers             208\n",
      "Chateau Ste. Michelle          193\n",
      "                              ... \n",
      "Domaine de l'Aurage              1\n",
      "Maestro di Antichi Castelli      1\n",
      "Domaine de Chevilly              1\n",
      "Dovev                            1\n",
      "Penedo Borges                    1\n",
      "Name: count, Length: 15464, dtype: int64\n"
     ]
    }
   ],
   "source": [
    "# Count occurrences of unique values in various columns\n",
    "print(cleanwine_df['title'].value_counts())\n",
    "print(cleanwine_df['variety'].value_counts())\n",
    "print(cleanwine_df['winery'].value_counts())"
   ]
  },
  {
   "cell_type": "code",
   "execution_count": 5,
   "metadata": {},
   "outputs": [],
   "source": [
    "# Drop title and winery columns\n",
    "cleanwine_df = cleanwine_df.drop(columns= ['title', 'winery'], axis=1)\n"
   ]
  },
  {
   "cell_type": "code",
   "execution_count": 6,
   "metadata": {},
   "outputs": [],
   "source": [
    "## Drop columns where style of wine is 'unknown'\n",
    "cleanwine_df = cleanwine_df[cleanwine_df['style'] != 'unknown']"
   ]
  },
  {
   "cell_type": "code",
   "execution_count": 7,
   "metadata": {},
   "outputs": [
    {
     "data": {
      "text/plain": [
       "style\n",
       "red      47347\n",
       "white    25476\n",
       "rosé      3269\n",
       "Name: count, dtype: int64"
      ]
     },
     "execution_count": 7,
     "metadata": {},
     "output_type": "execute_result"
    }
   ],
   "source": [
    "# Check counts for new type column.\n",
    "cleanwine_df['style'].value_counts()"
   ]
  },
  {
   "cell_type": "code",
   "execution_count": 8,
   "metadata": {},
   "outputs": [
    {
     "data": {
      "text/html": [
       "<div>\n",
       "<style scoped>\n",
       "    .dataframe tbody tr th:only-of-type {\n",
       "        vertical-align: middle;\n",
       "    }\n",
       "\n",
       "    .dataframe tbody tr th {\n",
       "        vertical-align: top;\n",
       "    }\n",
       "\n",
       "    .dataframe thead th {\n",
       "        text-align: right;\n",
       "    }\n",
       "</style>\n",
       "<table border=\"1\" class=\"dataframe\">\n",
       "  <thead>\n",
       "    <tr style=\"text-align: right;\">\n",
       "      <th></th>\n",
       "      <th>country_Argentina</th>\n",
       "      <th>country_Armenia</th>\n",
       "      <th>country_Australia</th>\n",
       "      <th>country_Austria</th>\n",
       "      <th>country_Brazil</th>\n",
       "      <th>country_Bulgaria</th>\n",
       "      <th>country_Canada</th>\n",
       "      <th>country_Chile</th>\n",
       "      <th>country_China</th>\n",
       "      <th>country_Croatia</th>\n",
       "      <th>...</th>\n",
       "      <th>variety_White Blend</th>\n",
       "      <th>variety_White Riesling</th>\n",
       "      <th>variety_Zinfandel</th>\n",
       "      <th>style_red</th>\n",
       "      <th>style_rosé</th>\n",
       "      <th>style_white</th>\n",
       "      <th>rating_category_average</th>\n",
       "      <th>rating_category_excellent</th>\n",
       "      <th>rating_category_good</th>\n",
       "      <th>rating_category_very good</th>\n",
       "    </tr>\n",
       "  </thead>\n",
       "  <tbody>\n",
       "    <tr>\n",
       "      <th>0</th>\n",
       "      <td>0.0</td>\n",
       "      <td>0.0</td>\n",
       "      <td>0.0</td>\n",
       "      <td>0.0</td>\n",
       "      <td>0.0</td>\n",
       "      <td>0.0</td>\n",
       "      <td>0.0</td>\n",
       "      <td>0.0</td>\n",
       "      <td>0.0</td>\n",
       "      <td>0.0</td>\n",
       "      <td>...</td>\n",
       "      <td>0.0</td>\n",
       "      <td>0.0</td>\n",
       "      <td>0.0</td>\n",
       "      <td>1.0</td>\n",
       "      <td>0.0</td>\n",
       "      <td>0.0</td>\n",
       "      <td>0.0</td>\n",
       "      <td>0.0</td>\n",
       "      <td>1.0</td>\n",
       "      <td>0.0</td>\n",
       "    </tr>\n",
       "    <tr>\n",
       "      <th>1</th>\n",
       "      <td>0.0</td>\n",
       "      <td>0.0</td>\n",
       "      <td>0.0</td>\n",
       "      <td>0.0</td>\n",
       "      <td>0.0</td>\n",
       "      <td>0.0</td>\n",
       "      <td>0.0</td>\n",
       "      <td>0.0</td>\n",
       "      <td>0.0</td>\n",
       "      <td>0.0</td>\n",
       "      <td>...</td>\n",
       "      <td>0.0</td>\n",
       "      <td>0.0</td>\n",
       "      <td>0.0</td>\n",
       "      <td>0.0</td>\n",
       "      <td>0.0</td>\n",
       "      <td>1.0</td>\n",
       "      <td>0.0</td>\n",
       "      <td>0.0</td>\n",
       "      <td>1.0</td>\n",
       "      <td>0.0</td>\n",
       "    </tr>\n",
       "    <tr>\n",
       "      <th>2</th>\n",
       "      <td>0.0</td>\n",
       "      <td>0.0</td>\n",
       "      <td>0.0</td>\n",
       "      <td>0.0</td>\n",
       "      <td>0.0</td>\n",
       "      <td>0.0</td>\n",
       "      <td>0.0</td>\n",
       "      <td>0.0</td>\n",
       "      <td>0.0</td>\n",
       "      <td>0.0</td>\n",
       "      <td>...</td>\n",
       "      <td>0.0</td>\n",
       "      <td>0.0</td>\n",
       "      <td>0.0</td>\n",
       "      <td>1.0</td>\n",
       "      <td>0.0</td>\n",
       "      <td>0.0</td>\n",
       "      <td>0.0</td>\n",
       "      <td>0.0</td>\n",
       "      <td>1.0</td>\n",
       "      <td>0.0</td>\n",
       "    </tr>\n",
       "    <tr>\n",
       "      <th>3</th>\n",
       "      <td>0.0</td>\n",
       "      <td>0.0</td>\n",
       "      <td>0.0</td>\n",
       "      <td>0.0</td>\n",
       "      <td>0.0</td>\n",
       "      <td>0.0</td>\n",
       "      <td>0.0</td>\n",
       "      <td>0.0</td>\n",
       "      <td>0.0</td>\n",
       "      <td>0.0</td>\n",
       "      <td>...</td>\n",
       "      <td>0.0</td>\n",
       "      <td>0.0</td>\n",
       "      <td>0.0</td>\n",
       "      <td>1.0</td>\n",
       "      <td>0.0</td>\n",
       "      <td>0.0</td>\n",
       "      <td>0.0</td>\n",
       "      <td>0.0</td>\n",
       "      <td>1.0</td>\n",
       "      <td>0.0</td>\n",
       "    </tr>\n",
       "    <tr>\n",
       "      <th>4</th>\n",
       "      <td>0.0</td>\n",
       "      <td>0.0</td>\n",
       "      <td>0.0</td>\n",
       "      <td>0.0</td>\n",
       "      <td>0.0</td>\n",
       "      <td>0.0</td>\n",
       "      <td>0.0</td>\n",
       "      <td>0.0</td>\n",
       "      <td>0.0</td>\n",
       "      <td>0.0</td>\n",
       "      <td>...</td>\n",
       "      <td>0.0</td>\n",
       "      <td>0.0</td>\n",
       "      <td>0.0</td>\n",
       "      <td>1.0</td>\n",
       "      <td>0.0</td>\n",
       "      <td>0.0</td>\n",
       "      <td>0.0</td>\n",
       "      <td>0.0</td>\n",
       "      <td>1.0</td>\n",
       "      <td>0.0</td>\n",
       "    </tr>\n",
       "  </tbody>\n",
       "</table>\n",
       "<p>5 rows × 1819 columns</p>\n",
       "</div>"
      ],
      "text/plain": [
       "   country_Argentina  country_Armenia  country_Australia  country_Austria  \\\n",
       "0                0.0              0.0                0.0              0.0   \n",
       "1                0.0              0.0                0.0              0.0   \n",
       "2                0.0              0.0                0.0              0.0   \n",
       "3                0.0              0.0                0.0              0.0   \n",
       "4                0.0              0.0                0.0              0.0   \n",
       "\n",
       "   country_Brazil  country_Bulgaria  country_Canada  country_Chile  \\\n",
       "0             0.0               0.0             0.0            0.0   \n",
       "1             0.0               0.0             0.0            0.0   \n",
       "2             0.0               0.0             0.0            0.0   \n",
       "3             0.0               0.0             0.0            0.0   \n",
       "4             0.0               0.0             0.0            0.0   \n",
       "\n",
       "   country_China  country_Croatia  ...  variety_White Blend  \\\n",
       "0            0.0              0.0  ...                  0.0   \n",
       "1            0.0              0.0  ...                  0.0   \n",
       "2            0.0              0.0  ...                  0.0   \n",
       "3            0.0              0.0  ...                  0.0   \n",
       "4            0.0              0.0  ...                  0.0   \n",
       "\n",
       "   variety_White Riesling  variety_Zinfandel  style_red  style_rosé  \\\n",
       "0                     0.0                0.0        1.0         0.0   \n",
       "1                     0.0                0.0        0.0         0.0   \n",
       "2                     0.0                0.0        1.0         0.0   \n",
       "3                     0.0                0.0        1.0         0.0   \n",
       "4                     0.0                0.0        1.0         0.0   \n",
       "\n",
       "   style_white  rating_category_average  rating_category_excellent  \\\n",
       "0          0.0                      0.0                        0.0   \n",
       "1          1.0                      0.0                        0.0   \n",
       "2          0.0                      0.0                        0.0   \n",
       "3          0.0                      0.0                        0.0   \n",
       "4          0.0                      0.0                        0.0   \n",
       "\n",
       "   rating_category_good  rating_category_very good  \n",
       "0                   1.0                        0.0  \n",
       "1                   1.0                        0.0  \n",
       "2                   1.0                        0.0  \n",
       "3                   1.0                        0.0  \n",
       "4                   1.0                        0.0  \n",
       "\n",
       "[5 rows x 1819 columns]"
      ]
     },
     "execution_count": 8,
     "metadata": {},
     "output_type": "execute_result"
    }
   ],
   "source": [
    "# Generate a list of categorical variable column names\n",
    "application_categories = cleanwine_df.select_dtypes(include=['object']).columns.tolist()\n",
    "\n",
    "# Create a OneHotEncoder instance with sparse_output=False\n",
    "enc = OneHotEncoder(sparse_output=False)\n",
    "\n",
    "# Fit and transform the OneHotEncoder using the categorical variable list\n",
    "encode_df = pd.DataFrame(enc.fit_transform(cleanwine_df[application_categories]))\n",
    "\n",
    "# Add the encoded variable names to the dataframe\n",
    "encode_df.columns = enc.get_feature_names_out(application_categories)\n",
    "\n",
    "# Display the first few rows of the encoded dataframe\n",
    "encode_df.head()\n"
   ]
  },
  {
   "cell_type": "code",
   "execution_count": 9,
   "metadata": {},
   "outputs": [
    {
     "data": {
      "text/html": [
       "<div>\n",
       "<style scoped>\n",
       "    .dataframe tbody tr th:only-of-type {\n",
       "        vertical-align: middle;\n",
       "    }\n",
       "\n",
       "    .dataframe tbody tr th {\n",
       "        vertical-align: top;\n",
       "    }\n",
       "\n",
       "    .dataframe thead th {\n",
       "        text-align: right;\n",
       "    }\n",
       "</style>\n",
       "<table border=\"1\" class=\"dataframe\">\n",
       "  <thead>\n",
       "    <tr style=\"text-align: right;\">\n",
       "      <th></th>\n",
       "      <th>points</th>\n",
       "      <th>price</th>\n",
       "      <th>vintage_year</th>\n",
       "      <th>country_Argentina</th>\n",
       "      <th>country_Armenia</th>\n",
       "      <th>country_Australia</th>\n",
       "      <th>country_Austria</th>\n",
       "      <th>country_Brazil</th>\n",
       "      <th>country_Bulgaria</th>\n",
       "      <th>country_Canada</th>\n",
       "      <th>...</th>\n",
       "      <th>variety_White Blend</th>\n",
       "      <th>variety_White Riesling</th>\n",
       "      <th>variety_Zinfandel</th>\n",
       "      <th>style_red</th>\n",
       "      <th>style_rosé</th>\n",
       "      <th>style_white</th>\n",
       "      <th>rating_category_average</th>\n",
       "      <th>rating_category_excellent</th>\n",
       "      <th>rating_category_good</th>\n",
       "      <th>rating_category_very good</th>\n",
       "    </tr>\n",
       "  </thead>\n",
       "  <tbody>\n",
       "    <tr>\n",
       "      <th>0</th>\n",
       "      <td>87</td>\n",
       "      <td>15.0</td>\n",
       "      <td>2011</td>\n",
       "      <td>0.0</td>\n",
       "      <td>0.0</td>\n",
       "      <td>0.0</td>\n",
       "      <td>0.0</td>\n",
       "      <td>0.0</td>\n",
       "      <td>0.0</td>\n",
       "      <td>0.0</td>\n",
       "      <td>...</td>\n",
       "      <td>0.0</td>\n",
       "      <td>0.0</td>\n",
       "      <td>0.0</td>\n",
       "      <td>1.0</td>\n",
       "      <td>0.0</td>\n",
       "      <td>0.0</td>\n",
       "      <td>0.0</td>\n",
       "      <td>0.0</td>\n",
       "      <td>1.0</td>\n",
       "      <td>0.0</td>\n",
       "    </tr>\n",
       "    <tr>\n",
       "      <th>2</th>\n",
       "      <td>87</td>\n",
       "      <td>13.0</td>\n",
       "      <td>2013</td>\n",
       "      <td>0.0</td>\n",
       "      <td>0.0</td>\n",
       "      <td>0.0</td>\n",
       "      <td>0.0</td>\n",
       "      <td>0.0</td>\n",
       "      <td>0.0</td>\n",
       "      <td>0.0</td>\n",
       "      <td>...</td>\n",
       "      <td>0.0</td>\n",
       "      <td>0.0</td>\n",
       "      <td>0.0</td>\n",
       "      <td>1.0</td>\n",
       "      <td>0.0</td>\n",
       "      <td>0.0</td>\n",
       "      <td>0.0</td>\n",
       "      <td>0.0</td>\n",
       "      <td>1.0</td>\n",
       "      <td>0.0</td>\n",
       "    </tr>\n",
       "    <tr>\n",
       "      <th>3</th>\n",
       "      <td>87</td>\n",
       "      <td>65.0</td>\n",
       "      <td>2012</td>\n",
       "      <td>0.0</td>\n",
       "      <td>0.0</td>\n",
       "      <td>0.0</td>\n",
       "      <td>0.0</td>\n",
       "      <td>0.0</td>\n",
       "      <td>0.0</td>\n",
       "      <td>0.0</td>\n",
       "      <td>...</td>\n",
       "      <td>0.0</td>\n",
       "      <td>0.0</td>\n",
       "      <td>0.0</td>\n",
       "      <td>1.0</td>\n",
       "      <td>0.0</td>\n",
       "      <td>0.0</td>\n",
       "      <td>0.0</td>\n",
       "      <td>0.0</td>\n",
       "      <td>1.0</td>\n",
       "      <td>0.0</td>\n",
       "    </tr>\n",
       "    <tr>\n",
       "      <th>4</th>\n",
       "      <td>87</td>\n",
       "      <td>15.0</td>\n",
       "      <td>2011</td>\n",
       "      <td>0.0</td>\n",
       "      <td>0.0</td>\n",
       "      <td>0.0</td>\n",
       "      <td>0.0</td>\n",
       "      <td>0.0</td>\n",
       "      <td>0.0</td>\n",
       "      <td>0.0</td>\n",
       "      <td>...</td>\n",
       "      <td>0.0</td>\n",
       "      <td>0.0</td>\n",
       "      <td>0.0</td>\n",
       "      <td>1.0</td>\n",
       "      <td>0.0</td>\n",
       "      <td>0.0</td>\n",
       "      <td>0.0</td>\n",
       "      <td>0.0</td>\n",
       "      <td>1.0</td>\n",
       "      <td>0.0</td>\n",
       "    </tr>\n",
       "    <tr>\n",
       "      <th>9</th>\n",
       "      <td>87</td>\n",
       "      <td>19.0</td>\n",
       "      <td>2011</td>\n",
       "      <td>0.0</td>\n",
       "      <td>0.0</td>\n",
       "      <td>0.0</td>\n",
       "      <td>0.0</td>\n",
       "      <td>0.0</td>\n",
       "      <td>0.0</td>\n",
       "      <td>0.0</td>\n",
       "      <td>...</td>\n",
       "      <td>0.0</td>\n",
       "      <td>0.0</td>\n",
       "      <td>0.0</td>\n",
       "      <td>1.0</td>\n",
       "      <td>0.0</td>\n",
       "      <td>0.0</td>\n",
       "      <td>0.0</td>\n",
       "      <td>0.0</td>\n",
       "      <td>1.0</td>\n",
       "      <td>0.0</td>\n",
       "    </tr>\n",
       "  </tbody>\n",
       "</table>\n",
       "<p>5 rows × 1822 columns</p>\n",
       "</div>"
      ],
      "text/plain": [
       "   points  price  vintage_year  country_Argentina  country_Armenia  \\\n",
       "0      87   15.0          2011                0.0              0.0   \n",
       "2      87   13.0          2013                0.0              0.0   \n",
       "3      87   65.0          2012                0.0              0.0   \n",
       "4      87   15.0          2011                0.0              0.0   \n",
       "9      87   19.0          2011                0.0              0.0   \n",
       "\n",
       "   country_Australia  country_Austria  country_Brazil  country_Bulgaria  \\\n",
       "0                0.0              0.0             0.0               0.0   \n",
       "2                0.0              0.0             0.0               0.0   \n",
       "3                0.0              0.0             0.0               0.0   \n",
       "4                0.0              0.0             0.0               0.0   \n",
       "9                0.0              0.0             0.0               0.0   \n",
       "\n",
       "   country_Canada  ...  variety_White Blend  variety_White Riesling  \\\n",
       "0             0.0  ...                  0.0                     0.0   \n",
       "2             0.0  ...                  0.0                     0.0   \n",
       "3             0.0  ...                  0.0                     0.0   \n",
       "4             0.0  ...                  0.0                     0.0   \n",
       "9             0.0  ...                  0.0                     0.0   \n",
       "\n",
       "   variety_Zinfandel  style_red  style_rosé  style_white  \\\n",
       "0                0.0        1.0         0.0          0.0   \n",
       "2                0.0        1.0         0.0          0.0   \n",
       "3                0.0        1.0         0.0          0.0   \n",
       "4                0.0        1.0         0.0          0.0   \n",
       "9                0.0        1.0         0.0          0.0   \n",
       "\n",
       "   rating_category_average  rating_category_excellent  rating_category_good  \\\n",
       "0                      0.0                        0.0                   1.0   \n",
       "2                      0.0                        0.0                   1.0   \n",
       "3                      0.0                        0.0                   1.0   \n",
       "4                      0.0                        0.0                   1.0   \n",
       "9                      0.0                        0.0                   1.0   \n",
       "\n",
       "   rating_category_very good  \n",
       "0                        0.0  \n",
       "2                        0.0  \n",
       "3                        0.0  \n",
       "4                        0.0  \n",
       "9                        0.0  \n",
       "\n",
       "[5 rows x 1822 columns]"
      ]
     },
     "execution_count": 9,
     "metadata": {},
     "output_type": "execute_result"
    }
   ],
   "source": [
    "# Merge one-hot encoded features and drop the original categorical columns\n",
    "cleanwine_df = cleanwine_df.merge(encode_df, left_index=True, right_index=True)\n",
    "\n",
    "# Drop the original categorical columns\n",
    "cleanwine_df = cleanwine_df.drop(application_categories, axis=1)\n",
    "\n",
    "# Display the first few rows of the modified DataFrame\n",
    "cleanwine_df.head()\n"
   ]
  },
  {
   "cell_type": "markdown",
   "metadata": {},
   "source": [
    "## Random Forest Machine Learning"
   ]
  },
  {
   "cell_type": "code",
   "execution_count": 10,
   "metadata": {},
   "outputs": [],
   "source": [
    "# Assume the target column is 'rating_category' and the features are the rest of the columns\n",
    "X = cleanwine_df.drop(columns = ['points', 'rating_category_average', 'rating_category_excellent', 'rating_category_good', 'rating_category_very good' ], axis = 1)\n",
    "\n",
    "# Create the target\n",
    "y = cleanwine_df['points']"
   ]
  },
  {
   "cell_type": "code",
   "execution_count": 12,
   "metadata": {},
   "outputs": [],
   "source": [
    "# Split the data into training and test sets\n",
    "X_train, X_test, y_train, y_test = train_test_split(X, y, test_size=0.2, random_state=42)\n"
   ]
  },
  {
   "cell_type": "code",
   "execution_count": 13,
   "metadata": {},
   "outputs": [],
   "source": [
    "# Creating a StandardScaler instance.\n",
    "scaler = StandardScaler()\n",
    "# Fitting the Standard Scaler with the training data.\n",
    "X_scaler = scaler.fit(X_train)"
   ]
  },
  {
   "cell_type": "code",
   "execution_count": 14,
   "metadata": {},
   "outputs": [],
   "source": [
    "# Scaling the data.\n",
    "X_train_scaled = X_scaler.transform(X_train)\n",
    "X_test_scaled = X_scaler.transform(X_test)"
   ]
  },
  {
   "cell_type": "code",
   "execution_count": 15,
   "metadata": {},
   "outputs": [],
   "source": [
    "# Create a random forest regression.\n",
    "rf_model = RandomForestRegressor(n_estimators=100, random_state=27)"
   ]
  },
  {
   "cell_type": "code",
   "execution_count": 16,
   "metadata": {},
   "outputs": [],
   "source": [
    "# Fit the model (this will take a while)\n",
    "rf_model = rf_model.fit(X_train_scaled, y_train)"
   ]
  },
  {
   "cell_type": "markdown",
   "metadata": {},
   "source": [
    "### Make Predictions"
   ]
  },
  {
   "cell_type": "code",
   "execution_count": 18,
   "metadata": {},
   "outputs": [],
   "source": [
    "# Make predictions using the testing data.\n",
    "predictions = rf_model.predict(X_test_scaled)"
   ]
  },
  {
   "cell_type": "markdown",
   "metadata": {},
   "source": [
    "### Evaluate Model"
   ]
  },
  {
   "cell_type": "code",
   "execution_count": 19,
   "metadata": {},
   "outputs": [
    {
     "data": {
      "text/plain": [
       "0.317942371795766"
      ]
     },
     "execution_count": 19,
     "metadata": {},
     "output_type": "execute_result"
    }
   ],
   "source": [
    "# Evaluate the model using the r^2 test\n",
    "r2_score(y_test, predictions)"
   ]
  },
  {
   "cell_type": "code",
   "execution_count": 20,
   "metadata": {},
   "outputs": [
    {
     "data": {
      "text/plain": [
       "6.435734956520699"
      ]
     },
     "execution_count": 20,
     "metadata": {},
     "output_type": "execute_result"
    }
   ],
   "source": [
    "# Evaluate the model using the mean squared error test\n",
    "mean_squared_error(y_test, predictions)"
   ]
  },
  {
   "cell_type": "markdown",
   "metadata": {},
   "source": [
    "## Imprortance of Features"
   ]
  },
  {
   "cell_type": "code",
   "execution_count": 33,
   "metadata": {},
   "outputs": [],
   "source": [
    "# Calculate feature importance in the Random Forest model.\n",
    "importances = rf_model.feature_importances_"
   ]
  },
  {
   "cell_type": "code",
   "execution_count": 34,
   "metadata": {},
   "outputs": [
    {
     "name": "stdout",
     "output_type": "stream",
     "text": [
      "                               Feature  Importance\n",
      "0                                price    0.451839\n",
      "1                         vintage_year    0.085017\n",
      "1688               taster_name_unknown    0.008513\n",
      "1707        variety_Cabernet Sauvignon    0.008166\n",
      "1723                variety_Chardonnay    0.006957\n",
      "...                                ...         ...\n",
      "1265              region_1_Puget Sound    0.000000\n",
      "1257                 region_1_Prosecco    0.000000\n",
      "265                province_Paardeberg    0.000000\n",
      "739                  region_1_Cévennes    0.000000\n",
      "754   region_1_Côtes de Nuits Villages    0.000000\n",
      "\n",
      "[1817 rows x 2 columns]\n"
     ]
    }
   ],
   "source": [
    "# Get the column names from the features\n",
    "columns = X.columns\n",
    "\n",
    "# Create a DataFrame with feature names and their importance\n",
    "feature_importance_df = pd.DataFrame({\n",
    "    'Feature': columns,\n",
    "    'Importance': importances\n",
    "})\n",
    "\n",
    "# Sort the features by importance in descending order\n",
    "feature_importance_df = feature_importance_df.sort_values(by='Importance', ascending=False)\n",
    "\n",
    "# Show the feature names along with their importance\n",
    "print(feature_importance_df)\n"
   ]
  },
  {
   "cell_type": "markdown",
   "metadata": {},
   "source": [
    "## Predict 'points_category'"
   ]
  },
  {
   "cell_type": "code",
   "execution_count": 21,
   "metadata": {},
   "outputs": [
    {
     "data": {
      "text/plain": [
       "Index(['points', 'price', 'vintage_year', 'country_Argentina',\n",
       "       'country_Armenia', 'country_Australia', 'country_Austria',\n",
       "       'country_Brazil', 'country_Bulgaria', 'country_Canada',\n",
       "       ...\n",
       "       'variety_White Blend', 'variety_White Riesling', 'variety_Zinfandel',\n",
       "       'style_red', 'style_rosé', 'style_white', 'rating_category_average',\n",
       "       'rating_category_excellent', 'rating_category_good',\n",
       "       'rating_category_very good'],\n",
       "      dtype='object', length=1822)"
      ]
     },
     "execution_count": 21,
     "metadata": {},
     "output_type": "execute_result"
    }
   ],
   "source": [
    "cleanwine_df.columns"
   ]
  },
  {
   "cell_type": "code",
   "execution_count": 22,
   "metadata": {},
   "outputs": [],
   "source": [
    "# Create our features for the model\n",
    "X_cat = cleanwine_df.drop(columns = ['points', 'rating_category_average', 'rating_category_excellent', 'rating_category_good', 'rating_category_very good'], axis = 1)\n",
    "\n",
    "# Create the target\n",
    "y_cat = cleanwine_df[['rating_category_average', 'rating_category_excellent', 'rating_category_good', 'rating_category_very good']]"
   ]
  },
  {
   "cell_type": "code",
   "execution_count": 23,
   "metadata": {},
   "outputs": [],
   "source": [
    "# Splitting into Train and Test sets.\n",
    "X_cat_train, X_cat_test, y_cat_train, y_cat_test = train_test_split(X_cat, y_cat, random_state=27)"
   ]
  },
  {
   "cell_type": "code",
   "execution_count": 24,
   "metadata": {},
   "outputs": [],
   "source": [
    "# Fitting the Standard Scaler with the training data.\n",
    "X_cat_scaler = scaler.fit(X_cat_train)"
   ]
  },
  {
   "cell_type": "code",
   "execution_count": 25,
   "metadata": {},
   "outputs": [],
   "source": [
    "# Scaling the data.\n",
    "X_cat_train_scaled = X_cat_scaler.transform(X_cat_train)\n",
    "X_cat_test_scaled = X_cat_scaler.transform(X_cat_test)"
   ]
  },
  {
   "cell_type": "code",
   "execution_count": 26,
   "metadata": {},
   "outputs": [],
   "source": [
    "# Create a random forest regression.\n",
    "rf_cat_model = RandomForestRegressor(n_estimators=100, random_state=27)"
   ]
  },
  {
   "cell_type": "code",
   "execution_count": 27,
   "metadata": {},
   "outputs": [],
   "source": [
    "# Fit the model (this will also take a while)\n",
    "rf_cat_model = rf_cat_model.fit(X_cat_train_scaled, y_cat_train)"
   ]
  },
  {
   "cell_type": "code",
   "execution_count": 28,
   "metadata": {},
   "outputs": [],
   "source": [
    "# Make predictions using the testing data.\n",
    "cat_predictions = rf_cat_model.predict(X_cat_test_scaled)"
   ]
  },
  {
   "cell_type": "code",
   "execution_count": 29,
   "metadata": {},
   "outputs": [
    {
     "data": {
      "text/plain": [
       "-0.023055467383611056"
      ]
     },
     "execution_count": 29,
     "metadata": {},
     "output_type": "execute_result"
    }
   ],
   "source": [
    "# Evaluate the model using the r^2 test\n",
    "r2_score(y_cat_test, cat_predictions)"
   ]
  },
  {
   "cell_type": "code",
   "execution_count": 30,
   "metadata": {},
   "outputs": [
    {
     "data": {
      "text/plain": [
       "0.14848654396646332"
      ]
     },
     "execution_count": 30,
     "metadata": {},
     "output_type": "execute_result"
    }
   ],
   "source": [
    "# Evaluate the model using the mean squared error test\n",
    "mean_squared_error(y_cat_test, cat_predictions)"
   ]
  },
  {
   "cell_type": "code",
   "execution_count": null,
   "metadata": {},
   "outputs": [],
   "source": []
  }
 ],
 "metadata": {
  "kernelspec": {
   "display_name": "base",
   "language": "python",
   "name": "python3"
  },
  "language_info": {
   "codemirror_mode": {
    "name": "ipython",
    "version": 3
   },
   "file_extension": ".py",
   "mimetype": "text/x-python",
   "name": "python",
   "nbconvert_exporter": "python",
   "pygments_lexer": "ipython3",
   "version": "3.12.3"
  }
 },
 "nbformat": 4,
 "nbformat_minor": 2
}
