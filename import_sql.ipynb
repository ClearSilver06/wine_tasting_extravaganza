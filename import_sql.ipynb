{
 "cells": [
  {
   "cell_type": "code",
   "execution_count": 13,
   "metadata": {},
   "outputs": [],
   "source": [
    "# Import the dependencies.\n",
    "from pathlib import Path\n",
    "from sqlalchemy import create_engine, text\n",
    "import pandas as pd\n",
    "\n",
    "# Create a reference to the file.\n",
    "database_path = Path(\"sql_cleanmag_table.sql\")"
   ]
  },
  {
   "cell_type": "code",
   "execution_count": 14,
   "metadata": {},
   "outputs": [
    {
     "ename": "OperationalError",
     "evalue": "table wine_reviews already exists",
     "output_type": "error",
     "traceback": [
      "\u001b[1;31m---------------------------------------------------------------------------\u001b[0m",
      "\u001b[1;31mOperationalError\u001b[0m                          Traceback (most recent call last)",
      "Cell \u001b[1;32mIn[14], line 14\u001b[0m\n\u001b[0;32m     12\u001b[0m \u001b[38;5;28;01mwith\u001b[39;00m \u001b[38;5;28mopen\u001b[39m(sql_file_path, \u001b[38;5;124m'\u001b[39m\u001b[38;5;124mr\u001b[39m\u001b[38;5;124m'\u001b[39m) \u001b[38;5;28;01mas\u001b[39;00m sql_file:\n\u001b[0;32m     13\u001b[0m     sql_script \u001b[38;5;241m=\u001b[39m sql_file\u001b[38;5;241m.\u001b[39mread()\n\u001b[1;32m---> 14\u001b[0m     cursor\u001b[38;5;241m.\u001b[39mexecutescript(sql_script)\n\u001b[0;32m     16\u001b[0m \u001b[38;5;66;03m# Commit changes and close the connection\u001b[39;00m\n\u001b[0;32m     17\u001b[0m conn\u001b[38;5;241m.\u001b[39mcommit()\n",
      "\u001b[1;31mOperationalError\u001b[0m: table wine_reviews already exists"
     ]
    }
   ],
   "source": [
    "import sqlite3\n",
    "\n",
    "# Path to your SQL file and the desired SQLite database\n",
    "sql_file_path = \"sql_cleanmag_table.sql\"\n",
    "sqlite_db_path = \"sql_cleanmag_table.db\"\n",
    "\n",
    "# Connect to SQLite database (it will create the file if it doesn't exist)\n",
    "conn = sqlite3.connect(sqlite_db_path)\n",
    "cursor = conn.cursor()\n",
    "\n",
    "# Open the SQL file and execute its content\n",
    "with open(sql_file_path, 'r') as sql_file:\n",
    "    sql_script = sql_file.read()\n",
    "    cursor.executescript(sql_script)\n",
    "\n",
    "# Commit changes and close the connection\n",
    "conn.commit()\n",
    "conn.close()\n",
    "\n",
    "print(f\"SQLite database '{sqlite_db_path}' has been created and populated.\")\n"
   ]
  },
  {
   "cell_type": "code",
   "execution_count": 15,
   "metadata": {},
   "outputs": [],
   "source": [
    "# Create a reference to the SQLite database file.\n",
    "database_path = Path(\"sql_cleanmag_table.db\")\n",
    "\n",
    "# Create an engine and a connection\n",
    "engine = create_engine(f\"sqlite:///{database_path}\")\n",
    "conn = engine.connect() "
   ]
  },
  {
   "cell_type": "code",
   "execution_count": 16,
   "metadata": {},
   "outputs": [],
   "source": [
    " # Query All Records in the the Database\n",
    "data = pd.read_sql(\"SELECT * FROM wine_reviews\", conn)"
   ]
  },
  {
   "cell_type": "code",
   "execution_count": 17,
   "metadata": {},
   "outputs": [
    {
     "data": {
      "text/html": [
       "<div>\n",
       "<style scoped>\n",
       "    .dataframe tbody tr th:only-of-type {\n",
       "        vertical-align: middle;\n",
       "    }\n",
       "\n",
       "    .dataframe tbody tr th {\n",
       "        vertical-align: top;\n",
       "    }\n",
       "\n",
       "    .dataframe thead th {\n",
       "        text-align: right;\n",
       "    }\n",
       "</style>\n",
       "<table border=\"1\" class=\"dataframe\">\n",
       "  <thead>\n",
       "    <tr style=\"text-align: right;\">\n",
       "      <th></th>\n",
       "      <th>country</th>\n",
       "      <th>points</th>\n",
       "      <th>price</th>\n",
       "      <th>province</th>\n",
       "      <th>region_1</th>\n",
       "      <th>taster_name</th>\n",
       "      <th>title</th>\n",
       "      <th>variety</th>\n",
       "      <th>winery</th>\n",
       "      <th>vintage_year</th>\n",
       "      <th>style</th>\n",
       "      <th>rating_category</th>\n",
       "    </tr>\n",
       "  </thead>\n",
       "  <tbody>\n",
       "  </tbody>\n",
       "</table>\n",
       "</div>"
      ],
      "text/plain": [
       "Empty DataFrame\n",
       "Columns: [country, points, price, province, region_1, taster_name, title, variety, winery, vintage_year, style, rating_category]\n",
       "Index: []"
      ]
     },
     "execution_count": 17,
     "metadata": {},
     "output_type": "execute_result"
    }
   ],
   "source": [
    "data.head()"
   ]
  },
  {
   "cell_type": "code",
   "execution_count": null,
   "metadata": {},
   "outputs": [],
   "source": []
  }
 ],
 "metadata": {
  "kernelspec": {
   "display_name": "base",
   "language": "python",
   "name": "python3"
  },
  "language_info": {
   "codemirror_mode": {
    "name": "ipython",
    "version": 3
   },
   "file_extension": ".py",
   "mimetype": "text/x-python",
   "name": "python",
   "nbconvert_exporter": "python",
   "pygments_lexer": "ipython3",
   "version": "3.12.3"
  }
 },
 "nbformat": 4,
 "nbformat_minor": 2
}
