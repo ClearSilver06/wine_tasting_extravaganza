{
 "cells": [
  {
   "cell_type": "code",
   "execution_count": 1,
   "id": "41cd74d9-0229-4ab4-aec5-b2ed76edc2b1",
   "metadata": {},
   "outputs": [],
   "source": [
    "# Import Dependencies\n",
    "import pandas as pd\n",
    "import re\n",
    "import numpy as np"
   ]
  },
  {
   "cell_type": "code",
   "execution_count": 2,
   "id": "6b23b54c-7010-44d6-8883-8f2dd75768ed",
   "metadata": {},
   "outputs": [],
   "source": [
    "# Load the dataset\n",
    "file_path = \"./winemag-data-130k-v2.csv\"\n",
    "wine_df = pd.read_csv(file_path)"
   ]
  },
  {
   "cell_type": "code",
   "execution_count": 3,
   "id": "358aa00e-a336-4baf-b949-5a3a74739162",
   "metadata": {},
   "outputs": [
    {
     "name": "stdout",
     "output_type": "stream",
     "text": [
      "<class 'pandas.core.frame.DataFrame'>\n",
      "RangeIndex: 129971 entries, 0 to 129970\n",
      "Data columns (total 14 columns):\n",
      " #   Column          Non-Null Count   Dtype  \n",
      "---  ------          --------------   -----  \n",
      " 0   wine_no         129971 non-null  int64  \n",
      " 1   country         129908 non-null  object \n",
      " 2   description     129971 non-null  object \n",
      " 3   designation     92506 non-null   object \n",
      " 4   points          129971 non-null  int64  \n",
      " 5   price           120975 non-null  float64\n",
      " 6   province        129908 non-null  object \n",
      " 7   region_1        108724 non-null  object \n",
      " 8   region_2        50511 non-null   object \n",
      " 9   taster_name     103727 non-null  object \n",
      " 10  taster_twitter  98758 non-null   object \n",
      " 11  title           129971 non-null  object \n",
      " 12  variety         129970 non-null  object \n",
      " 13  winery          129971 non-null  object \n",
      "dtypes: float64(1), int64(2), object(11)\n",
      "memory usage: 13.9+ MB\n",
      "None\n",
      "   wine_no   country                                        description  \\\n",
      "0        0     Italy  Aromas include tropical fruit, broom, brimston...   \n",
      "1        1  Portugal  This is ripe and fruity, a wine that is smooth...   \n",
      "2        2        US  Tart and snappy, the flavors of lime flesh and...   \n",
      "3        3        US  Pineapple rind, lemon pith and orange blossom ...   \n",
      "4        4        US  Much like the regular bottling from 2012, this...   \n",
      "\n",
      "                          designation  points  price           province  \\\n",
      "0                        Vulkà Bianco      87    NaN  Sicily & Sardinia   \n",
      "1                            Avidagos      87   15.0              Douro   \n",
      "2                                 NaN      87   14.0             Oregon   \n",
      "3                Reserve Late Harvest      87   13.0           Michigan   \n",
      "4  Vintner's Reserve Wild Child Block      87   65.0             Oregon   \n",
      "\n",
      "              region_1           region_2         taster_name taster_twitter  \\\n",
      "0                 Etna                NaN       Kerin O’Keefe   @kerinokeefe   \n",
      "1                  NaN                NaN          Roger Voss     @vossroger   \n",
      "2    Willamette Valley  Willamette Valley        Paul Gregutt    @paulgwine    \n",
      "3  Lake Michigan Shore                NaN  Alexander Peartree            NaN   \n",
      "4    Willamette Valley  Willamette Valley        Paul Gregutt    @paulgwine    \n",
      "\n",
      "                                               title         variety  \\\n",
      "0                  Nicosia 2013 Vulkà Bianco  (Etna)     White Blend   \n",
      "1      Quinta dos Avidagos 2011 Avidagos Red (Douro)  Portuguese Red   \n",
      "2      Rainstorm 2013 Pinot Gris (Willamette Valley)      Pinot Gris   \n",
      "3  St. Julian 2013 Reserve Late Harvest Riesling ...        Riesling   \n",
      "4  Sweet Cheeks 2012 Vintner's Reserve Wild Child...      Pinot Noir   \n",
      "\n",
      "                winery  \n",
      "0              Nicosia  \n",
      "1  Quinta dos Avidagos  \n",
      "2            Rainstorm  \n",
      "3           St. Julian  \n",
      "4         Sweet Cheeks  \n"
     ]
    }
   ],
   "source": [
    "# Initial exploration\n",
    "print(wine_df.info())\n",
    "print(wine_df.head())"
   ]
  },
  {
   "cell_type": "code",
   "execution_count": 4,
   "id": "0588744a-1fa0-4e65-819a-2f12c9d508e3",
   "metadata": {},
   "outputs": [
    {
     "name": "stdout",
     "output_type": "stream",
     "text": [
      "                                               title vintage_year\n",
      "0                  Nicosia 2013 Vulkà Bianco  (Etna)         2013\n",
      "1      Quinta dos Avidagos 2011 Avidagos Red (Douro)         2011\n",
      "2      Rainstorm 2013 Pinot Gris (Willamette Valley)         2013\n",
      "3  St. Julian 2013 Reserve Late Harvest Riesling ...         2013\n",
      "4  Sweet Cheeks 2012 Vintner's Reserve Wild Child...         2012\n"
     ]
    }
   ],
   "source": [
    "# Extract the year from the title\n",
    "def extract_year(title):\n",
    "    match = re.search(r\"\\b(19\\d{2}|20\\d{2})\\b\", str(title))\n",
    "    return match.group(0) if match else np.nan\n",
    "\n",
    "wine_df['vintage_year'] = wine_df['title'].apply(extract_year)\n",
    "print(wine_df[['title', 'vintage_year']].head())"
   ]
  },
  {
   "cell_type": "code",
   "execution_count": 5,
   "id": "967b134e-c870-4a6e-8c45-1d91fd350fd0",
   "metadata": {},
   "outputs": [
    {
     "name": "stdout",
     "output_type": "stream",
     "text": [
      "   points rating_category\n",
      "0      87            good\n",
      "1      87            good\n",
      "2      87            good\n",
      "3      87            good\n",
      "4      87            good\n"
     ]
    }
   ],
   "source": [
    "# Categorize points into quality levels\n",
    "def categorize_points(score):\n",
    "    if pd.isnull(score):\n",
    "        return 'unknown'\n",
    "    score = int(score)\n",
    "    if score >= 95:\n",
    "        return 'excellent'\n",
    "    elif score >= 90:\n",
    "        return 'very good'\n",
    "    elif score >= 85:\n",
    "        return 'good'\n",
    "    elif score >= 80:\n",
    "        return 'average'\n",
    "    else:\n",
    "        return 'below average'\n",
    "\n",
    "wine_df['rating_category'] = wine_df['points'].apply(categorize_points)\n",
    "print(wine_df[['points', 'rating_category']].head())"
   ]
  },
  {
   "cell_type": "code",
   "execution_count": 6,
   "id": "b703cd90-265d-4a66-9f8d-926bdb47fe22",
   "metadata": {},
   "outputs": [
    {
     "name": "stdout",
     "output_type": "stream",
     "text": [
      "          variety    style\n",
      "0     White Blend    white\n",
      "1  Portuguese Red      red\n",
      "2      Pinot Gris  unknown\n",
      "3        Riesling    white\n",
      "4      Pinot Noir      red\n"
     ]
    }
   ],
   "source": [
    "# Simplify wine type detection based on variety\n",
    "def identify_wine_style(variety):\n",
    "    variety = str(variety).lower()\n",
    "    if any(x in variety for x in ['red', 'cabernet', 'merlot', 'pinot noir', 'zinfandel']):\n",
    "        return 'red'\n",
    "    elif any(x in variety for x in ['white', 'chardonnay', 'sauvignon', 'riesling']):\n",
    "        return 'white'\n",
    "    elif 'rosé' in variety or 'rose' in variety:\n",
    "        return 'rosé'\n",
    "    else:\n",
    "        return 'unknown'\n",
    "\n",
    "wine_df['style'] = wine_df['variety'].apply(identify_wine_style)\n",
    "print(wine_df[['variety', 'style']].head())"
   ]
  },
  {
   "cell_type": "code",
   "execution_count": 7,
   "id": "4181a364-cb60-4ae4-a288-621c0efca8bf",
   "metadata": {},
   "outputs": [
    {
     "name": "stdout",
     "output_type": "stream",
     "text": [
      "            province             region_1\n",
      "0  Sicily & Sardinia                 Etna\n",
      "1              Douro                Douro\n",
      "2             Oregon    Willamette Valley\n",
      "3           Michigan  Lake Michigan Shore\n",
      "4             Oregon    Willamette Valley\n"
     ]
    },
    {
     "name": "stderr",
     "output_type": "stream",
     "text": [
      "C:\\Users\\Alyssandra_Calhoun\\AppData\\Local\\Temp\\ipykernel_48092\\2332221452.py:2: FutureWarning: A value is trying to be set on a copy of a DataFrame or Series through chained assignment using an inplace method.\n",
      "The behavior will change in pandas 3.0. This inplace method will never work because the intermediate object on which we are setting values always behaves as a copy.\n",
      "\n",
      "For example, when doing 'df[col].method(value, inplace=True)', try using 'df.method({col: value}, inplace=True)' or df[col] = df[col].method(value) instead, to perform the operation inplace on the original object.\n",
      "\n",
      "\n",
      "  wine_df['region_1'].fillna(wine_df['province'], inplace=True)\n"
     ]
    }
   ],
   "source": [
    "# Replace null values in region_1 with province\n",
    "wine_df['region_1'].fillna(wine_df['province'], inplace=True)\n",
    "print(wine_df[['province', 'region_1']].head())"
   ]
  },
  {
   "cell_type": "code",
   "execution_count": 8,
   "id": "dc0c37c2-5df5-48c5-af03-d288d4676972",
   "metadata": {},
   "outputs": [
    {
     "name": "stdout",
     "output_type": "stream",
     "text": [
      "          taster_name\n",
      "0       Kerin O’Keefe\n",
      "1          Roger Voss\n",
      "2        Paul Gregutt\n",
      "3  Alexander Peartree\n",
      "4        Paul Gregutt\n"
     ]
    },
    {
     "name": "stderr",
     "output_type": "stream",
     "text": [
      "C:\\Users\\Alyssandra_Calhoun\\AppData\\Local\\Temp\\ipykernel_48092\\3598122313.py:2: FutureWarning: A value is trying to be set on a copy of a DataFrame or Series through chained assignment using an inplace method.\n",
      "The behavior will change in pandas 3.0. This inplace method will never work because the intermediate object on which we are setting values always behaves as a copy.\n",
      "\n",
      "For example, when doing 'df[col].method(value, inplace=True)', try using 'df.method({col: value}, inplace=True)' or df[col] = df[col].method(value) instead, to perform the operation inplace on the original object.\n",
      "\n",
      "\n",
      "  wine_df['taster_name'].fillna('unknown', inplace=True)\n"
     ]
    }
   ],
   "source": [
    "# Handle missing taster names\n",
    "wine_df['taster_name'].fillna('unknown', inplace=True)\n",
    "print(wine_df[['taster_name']].head())"
   ]
  },
  {
   "cell_type": "code",
   "execution_count": 9,
   "id": "c9267597-08ec-4cb0-8a1e-a9a062897ab3",
   "metadata": {},
   "outputs": [
    {
     "name": "stdout",
     "output_type": "stream",
     "text": [
      "              Missing Values  % of Total\n",
      "country                   63         0.0\n",
      "price                   8996         6.9\n",
      "province                  63         0.0\n",
      "region_1                  63         0.0\n",
      "variety                    1         0.0\n",
      "vintage_year            4626         3.6\n"
     ]
    }
   ],
   "source": [
    "# Select and reorder columns for the clean dataset\n",
    "refined_wine_df = wine_df[['country', 'points', 'price', 'province', 'region_1', 'taster_name',\n",
    "                           'title', 'variety', 'winery', 'vintage_year', 'style', 'rating_category']]\n",
    "\n",
    "# Check for missing values\n",
    "def check_missing_values(df):\n",
    "    missing_data = df.isnull().sum()\n",
    "    missing_percent = (missing_data / len(df)) * 100\n",
    "    missing_summary = pd.DataFrame({\n",
    "        'Missing Values': missing_data,\n",
    "        '% of Total': missing_percent.round(1)\n",
    "    })\n",
    "    missing_summary = missing_summary[missing_summary['Missing Values'] > 0]\n",
    "    print(missing_summary)\n",
    "\n",
    "check_missing_values(refined_wine_df)"
   ]
  },
  {
   "cell_type": "code",
   "execution_count": 10,
   "id": "7bbcba00-7e45-49a9-8afd-911bea3aaf7a",
   "metadata": {},
   "outputs": [
    {
     "name": "stdout",
     "output_type": "stream",
     "text": [
      "    country  points  price        province             region_1  \\\n",
      "0  Portugal      87   15.0           Douro                Douro   \n",
      "1        US      87   14.0          Oregon    Willamette Valley   \n",
      "2        US      87   13.0        Michigan  Lake Michigan Shore   \n",
      "3        US      87   65.0          Oregon    Willamette Valley   \n",
      "4     Spain      87   15.0  Northern Spain              Navarra   \n",
      "\n",
      "          taster_name                                              title  \\\n",
      "0          Roger Voss      Quinta dos Avidagos 2011 Avidagos Red (Douro)   \n",
      "1        Paul Gregutt      Rainstorm 2013 Pinot Gris (Willamette Valley)   \n",
      "2  Alexander Peartree  St. Julian 2013 Reserve Late Harvest Riesling ...   \n",
      "3        Paul Gregutt  Sweet Cheeks 2012 Vintner's Reserve Wild Child...   \n",
      "4   Michael Schachner  Tandem 2011 Ars In Vitro Tempranillo-Merlot (N...   \n",
      "\n",
      "              variety               winery vintage_year    style  \\\n",
      "0      Portuguese Red  Quinta dos Avidagos         2011      red   \n",
      "1          Pinot Gris            Rainstorm         2013  unknown   \n",
      "2            Riesling           St. Julian         2013    white   \n",
      "3          Pinot Noir         Sweet Cheeks         2012      red   \n",
      "4  Tempranillo-Merlot               Tandem         2011      red   \n",
      "\n",
      "  rating_category  \n",
      "0            good  \n",
      "1            good  \n",
      "2            good  \n",
      "3            good  \n",
      "4            good  \n"
     ]
    },
    {
     "name": "stderr",
     "output_type": "stream",
     "text": [
      "C:\\Users\\Alyssandra_Calhoun\\AppData\\Local\\Temp\\ipykernel_48092\\2481559817.py:2: SettingWithCopyWarning: \n",
      "A value is trying to be set on a copy of a slice from a DataFrame\n",
      "\n",
      "See the caveats in the documentation: https://pandas.pydata.org/pandas-docs/stable/user_guide/indexing.html#returning-a-view-versus-a-copy\n",
      "  refined_wine_df.dropna(inplace=True)\n"
     ]
    }
   ],
   "source": [
    "# Drop rows with any remaining null values\n",
    "refined_wine_df.dropna(inplace=True)\n",
    "refined_wine_df.reset_index(drop=True, inplace=True)\n",
    "print(refined_wine_df.head())"
   ]
  },
  {
   "cell_type": "code",
   "execution_count": 11,
   "id": "207e054a-0b2f-48ea-9790-5a5aa3232788",
   "metadata": {},
   "outputs": [
    {
     "name": "stdout",
     "output_type": "stream",
     "text": [
      "Final cleaned data saved to ./winemag-data-clean.csv\n"
     ]
    }
   ],
   "source": [
    "# Save the finalized clean dataset\n",
    "final_clean_file_path = \"./winemag-data-clean.csv\"\n",
    "refined_wine_df.to_csv(final_clean_file_path, index=False)\n",
    "\n",
    "print(f\"Final cleaned data saved to {final_clean_file_path}\")"
   ]
  },
  {
   "cell_type": "code",
   "execution_count": 12,
   "id": "11364237-2d41-4027-89d5-62b95bed1127",
   "metadata": {},
   "outputs": [
    {
     "name": "stdout",
     "output_type": "stream",
     "text": [
      "<class 'pandas.core.frame.DataFrame'>\n",
      "RangeIndex: 116765 entries, 0 to 116764\n",
      "Data columns (total 12 columns):\n",
      " #   Column           Non-Null Count   Dtype  \n",
      "---  ------           --------------   -----  \n",
      " 0   country          116765 non-null  object \n",
      " 1   points           116765 non-null  int64  \n",
      " 2   price            116765 non-null  float64\n",
      " 3   province         116765 non-null  object \n",
      " 4   region_1         116765 non-null  object \n",
      " 5   taster_name      116765 non-null  object \n",
      " 6   title            116765 non-null  object \n",
      " 7   variety          116765 non-null  object \n",
      " 8   winery           116765 non-null  object \n",
      " 9   vintage_year     116765 non-null  object \n",
      " 10  style            116765 non-null  object \n",
      " 11  rating_category  116765 non-null  object \n",
      "dtypes: float64(1), int64(1), object(10)\n",
      "memory usage: 10.7+ MB\n",
      "None\n",
      "    country  points  price        province             region_1  \\\n",
      "0  Portugal      87   15.0           Douro                Douro   \n",
      "1        US      87   14.0          Oregon    Willamette Valley   \n",
      "2        US      87   13.0        Michigan  Lake Michigan Shore   \n",
      "3        US      87   65.0          Oregon    Willamette Valley   \n",
      "4     Spain      87   15.0  Northern Spain              Navarra   \n",
      "\n",
      "          taster_name                                              title  \\\n",
      "0          Roger Voss      Quinta dos Avidagos 2011 Avidagos Red (Douro)   \n",
      "1        Paul Gregutt      Rainstorm 2013 Pinot Gris (Willamette Valley)   \n",
      "2  Alexander Peartree  St. Julian 2013 Reserve Late Harvest Riesling ...   \n",
      "3        Paul Gregutt  Sweet Cheeks 2012 Vintner's Reserve Wild Child...   \n",
      "4   Michael Schachner  Tandem 2011 Ars In Vitro Tempranillo-Merlot (N...   \n",
      "\n",
      "              variety               winery vintage_year    style  \\\n",
      "0      Portuguese Red  Quinta dos Avidagos         2011      red   \n",
      "1          Pinot Gris            Rainstorm         2013  unknown   \n",
      "2            Riesling           St. Julian         2013    white   \n",
      "3          Pinot Noir         Sweet Cheeks         2012      red   \n",
      "4  Tempranillo-Merlot               Tandem         2011      red   \n",
      "\n",
      "  rating_category  \n",
      "0            good  \n",
      "1            good  \n",
      "2            good  \n",
      "3            good  \n",
      "4            good  \n"
     ]
    }
   ],
   "source": [
    "# Final summary\n",
    "print(refined_wine_df.info())\n",
    "print(refined_wine_df.head())"
   ]
  },
  {
   "cell_type": "code",
   "execution_count": null,
   "id": "b86a8b7d-0af1-4b59-b287-2707e1649cfc",
   "metadata": {},
   "outputs": [],
   "source": []
  }
 ],
 "metadata": {
  "kernelspec": {
   "display_name": "base",
   "language": "python",
   "name": "python3"
  },
  "language_info": {
   "codemirror_mode": {
    "name": "ipython",
    "version": 3
   },
   "file_extension": ".py",
   "mimetype": "text/x-python",
   "name": "python",
   "nbconvert_exporter": "python",
   "pygments_lexer": "ipython3",
   "version": "3.12.3"
  }
 },
 "nbformat": 4,
 "nbformat_minor": 5
}
